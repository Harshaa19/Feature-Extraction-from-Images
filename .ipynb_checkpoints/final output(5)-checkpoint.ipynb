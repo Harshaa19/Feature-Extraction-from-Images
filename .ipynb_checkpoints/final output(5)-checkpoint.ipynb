{
 "cells": [
  {
   "cell_type": "code",
   "execution_count": 1,
   "id": "f1a08963-2be6-450d-a8b9-50ba4bbcf5a8",
   "metadata": {},
   "outputs": [],
   "source": [
    "import pandas as pd\n",
    "import numpy as np\n",
    "import re"
   ]
  },
  {
   "cell_type": "code",
   "execution_count": 2,
   "id": "315eeb08-b3bb-4258-8937-7baf47b21a2b",
   "metadata": {},
   "outputs": [],
   "source": [
    "df=pd.read_csv(r\"C:\\Users\\koppu\\Documents\\TextRecognization_Image\\text_extracting.csv\")"
   ]
  },
  {
   "cell_type": "code",
   "execution_count": 3,
   "id": "2feab74f-e363-4d05-a88b-3841de46c99d",
   "metadata": {},
   "outputs": [
    {
     "data": {
      "text/html": [
       "<div>\n",
       "<style scoped>\n",
       "    .dataframe tbody tr th:only-of-type {\n",
       "        vertical-align: middle;\n",
       "    }\n",
       "\n",
       "    .dataframe tbody tr th {\n",
       "        vertical-align: top;\n",
       "    }\n",
       "\n",
       "    .dataframe thead th {\n",
       "        text-align: right;\n",
       "    }\n",
       "</style>\n",
       "<table border=\"1\" class=\"dataframe\">\n",
       "  <thead>\n",
       "    <tr style=\"text-align: right;\">\n",
       "      <th></th>\n",
       "      <th>image_id</th>\n",
       "      <th>text</th>\n",
       "      <th>img_fns</th>\n",
       "    </tr>\n",
       "  </thead>\n",
       "  <tbody>\n",
       "    <tr>\n",
       "      <th>0</th>\n",
       "      <td>31GO0eUnE7L</td>\n",
       "      <td>[('lOLB', 0.6722544431686401)]</td>\n",
       "      <td>G:\\My Drive\\Colab Notebooks\\git\\images\\31GO0eU...</td>\n",
       "    </tr>\n",
       "    <tr>\n",
       "      <th>1</th>\n",
       "      <td>31HOaPtWAGS</td>\n",
       "      <td>[('80 cm', 0.9934297800064087), ('36 cm', 0.98...</td>\n",
       "      <td>G:\\My Drive\\Colab Notebooks\\git\\images\\31HOaPt...</td>\n",
       "    </tr>\n",
       "    <tr>\n",
       "      <th>2</th>\n",
       "      <td>31Fh8XDXKmL</td>\n",
       "      <td>[('220V', 0.9984439611434937)]</td>\n",
       "      <td>G:\\My Drive\\Colab Notebooks\\git\\images\\31Fh8XD...</td>\n",
       "    </tr>\n",
       "    <tr>\n",
       "      <th>3</th>\n",
       "      <td>31GGjka5fcL</td>\n",
       "      <td>[('6.29 in / 16 cm', 0.9845216274261475), ('8....</td>\n",
       "      <td>G:\\My Drive\\Colab Notebooks\\git\\images\\31GGjka...</td>\n",
       "    </tr>\n",
       "    <tr>\n",
       "      <th>4</th>\n",
       "      <td>31FCBht4h-L</td>\n",
       "      <td>[('1.3 in/3.3cm', 0.9565111994743347), ('3.14 ...</td>\n",
       "      <td>G:\\My Drive\\Colab Notebooks\\git\\images\\31FCBht...</td>\n",
       "    </tr>\n",
       "  </tbody>\n",
       "</table>\n",
       "</div>"
      ],
      "text/plain": [
       "      image_id                                               text  \\\n",
       "0  31GO0eUnE7L                     [('lOLB', 0.6722544431686401)]   \n",
       "1  31HOaPtWAGS  [('80 cm', 0.9934297800064087), ('36 cm', 0.98...   \n",
       "2  31Fh8XDXKmL                     [('220V', 0.9984439611434937)]   \n",
       "3  31GGjka5fcL  [('6.29 in / 16 cm', 0.9845216274261475), ('8....   \n",
       "4  31FCBht4h-L  [('1.3 in/3.3cm', 0.9565111994743347), ('3.14 ...   \n",
       "\n",
       "                                             img_fns  \n",
       "0  G:\\My Drive\\Colab Notebooks\\git\\images\\31GO0eU...  \n",
       "1  G:\\My Drive\\Colab Notebooks\\git\\images\\31HOaPt...  \n",
       "2  G:\\My Drive\\Colab Notebooks\\git\\images\\31Fh8XD...  \n",
       "3  G:\\My Drive\\Colab Notebooks\\git\\images\\31GGjka...  \n",
       "4  G:\\My Drive\\Colab Notebooks\\git\\images\\31FCBht...  "
      ]
     },
     "execution_count": 3,
     "metadata": {},
     "output_type": "execute_result"
    }
   ],
   "source": [
    "df.head()"
   ]
  },
  {
   "cell_type": "code",
   "execution_count": 4,
   "id": "43ca62f5-2366-43fc-8771-22a1d97455d2",
   "metadata": {},
   "outputs": [
    {
     "data": {
      "text/plain": [
       "image_id    0\n",
       "text        0\n",
       "img_fns     0\n",
       "dtype: int64"
      ]
     },
     "execution_count": 4,
     "metadata": {},
     "output_type": "execute_result"
    }
   ],
   "source": [
    "df.isnull().sum()"
   ]
  },
  {
   "cell_type": "code",
   "execution_count": 5,
   "id": "85cc5638-047e-4829-8ece-85c3f03cb513",
   "metadata": {},
   "outputs": [],
   "source": [
    "df=df.dropna()"
   ]
  },
  {
   "cell_type": "code",
   "execution_count": 6,
   "id": "740c30c2-8e7d-4a75-b6f5-2d0533605922",
   "metadata": {},
   "outputs": [
    {
     "data": {
      "text/plain": [
       "image_id    0\n",
       "text        0\n",
       "img_fns     0\n",
       "dtype: int64"
      ]
     },
     "execution_count": 6,
     "metadata": {},
     "output_type": "execute_result"
    }
   ],
   "source": [
    "df.isnull().sum()"
   ]
  },
  {
   "cell_type": "code",
   "execution_count": 7,
   "id": "90749b2f-87ce-4a2b-ae4a-dcad3a5ddd19",
   "metadata": {
    "scrolled": true
   },
   "outputs": [],
   "source": [
    "df.at[0, 'text'] = ('10 lb', 0.6722544431686401)"
   ]
  },
  {
   "cell_type": "code",
   "execution_count": 8,
   "id": "d55ab7e4-1891-4258-b93c-2036d63fe0ed",
   "metadata": {},
   "outputs": [],
   "source": [
    "df.loc[0, 'text']=str(df.loc[0, 'text'])"
   ]
  },
  {
   "cell_type": "code",
   "execution_count": 9,
   "id": "2d211474-d8fc-4827-891b-fc62212a64ac",
   "metadata": {},
   "outputs": [
    {
     "data": {
      "text/plain": [
       "\"('10 lb', 0.6722544431686401)\""
      ]
     },
     "execution_count": 9,
     "metadata": {},
     "output_type": "execute_result"
    }
   ],
   "source": [
    "df['text'][0]"
   ]
  },
  {
   "cell_type": "code",
   "execution_count": 10,
   "id": "1616490a-c04c-4b72-9b68-f1d9b440b464",
   "metadata": {},
   "outputs": [],
   "source": [
    "chars_to_remove = [ '\\\\', '/', '(', ')', ',', '[', ']', '.']"
   ]
  },
  {
   "cell_type": "code",
   "execution_count": 11,
   "id": "4c2412c0-0d74-4167-980e-8d3b547088b8",
   "metadata": {},
   "outputs": [],
   "source": [
    "translator = str.maketrans('', '', ''.join(chars_to_remove))"
   ]
  },
  {
   "cell_type": "code",
   "execution_count": 12,
   "id": "f14b99fc-131e-43f4-b765-6dd32f3503f2",
   "metadata": {
    "scrolled": true
   },
   "outputs": [],
   "source": [
    "df['text']=df[\"text\"].str.lower()\n"
   ]
  },
  {
   "cell_type": "code",
   "execution_count": 13,
   "id": "c9647f15-035f-42d9-8f3c-90a438a3d904",
   "metadata": {},
   "outputs": [],
   "source": [
    "pattern = r\"'(.*?)'\"\n"
   ]
  },
  {
   "cell_type": "code",
   "execution_count": 14,
   "id": "ad55df19-11d4-4eb6-8008-794e29d6441f",
   "metadata": {},
   "outputs": [
    {
     "data": {
      "text/plain": [
       "\"('10 lb', 0.6722544431686401)\""
      ]
     },
     "execution_count": 14,
     "metadata": {},
     "output_type": "execute_result"
    }
   ],
   "source": [
    "df['text'][0]"
   ]
  },
  {
   "cell_type": "code",
   "execution_count": 15,
   "id": "104ad40f-41ec-4ee1-8dc7-f91351da3c35",
   "metadata": {},
   "outputs": [],
   "source": [
    "# Define the extraction function as before\n",
    "def extract_text(s):\n",
    "    if isinstance(s, str):\n",
    "        pattern = r\"'(.*?)'\"\n",
    "        matches = re.findall(pattern, s)\n",
    "        combined_text = ' '.join(matches)\n",
    "        return combined_text\n",
    "    else:\n",
    "        return s\n",
    "\n"
   ]
  },
  {
   "cell_type": "code",
   "execution_count": 16,
   "id": "53669fc1-1864-49a1-bdee-67de90ea8610",
   "metadata": {},
   "outputs": [
    {
     "name": "stdout",
     "output_type": "stream",
     "text": [
      "\n",
      "After processing:\n",
      "0                                                  10 lb\n",
      "1                                      80 cm 36 cm 15 cm\n",
      "2                                                   220v\n",
      "3                        6.29 in / 16 cm 8.26 in / 21 cm\n",
      "4                              1.3 in/3.3cm 3.14 in/8 cm\n",
      "                             ...                        \n",
      "495    stemlesswine glasses dishwasher-safe for easy ...\n",
      "496                                 20 mm mm 40 mm 2 7mm\n",
      "497                          5.5 in/14.2 cm 2.1 in/5.5cm\n",
      "498    item form ground . pack pilao flavor pack of 1...\n",
      "499              23 lightweight of pounds 17in 17in 36in\n",
      "Name: text, Length: 500, dtype: object\n"
     ]
    }
   ],
   "source": [
    "df['text'] = df['text'].apply(extract_text)\n",
    "\n",
    "print(\"\\nAfter processing:\")\n",
    "print(df['text'])\n"
   ]
  },
  {
   "cell_type": "code",
   "execution_count": 17,
   "id": "28bb552c-de81-4a9e-8b06-bb9256938614",
   "metadata": {},
   "outputs": [
    {
     "data": {
      "text/plain": [
       "0                                                  10 lb\n",
       "1                                      80 cm 36 cm 15 cm\n",
       "2                                                   220v\n",
       "3                        6.29 in / 16 cm 8.26 in / 21 cm\n",
       "4                              1.3 in/3.3cm 3.14 in/8 cm\n",
       "                             ...                        \n",
       "495    stemlesswine glasses dishwasher-safe for easy ...\n",
       "496                                 20 mm mm 40 mm 2 7mm\n",
       "497                          5.5 in/14.2 cm 2.1 in/5.5cm\n",
       "498    item form ground . pack pilao flavor pack of 1...\n",
       "499              23 lightweight of pounds 17in 17in 36in\n",
       "Name: text, Length: 500, dtype: object"
      ]
     },
     "execution_count": 17,
     "metadata": {},
     "output_type": "execute_result"
    }
   ],
   "source": [
    "df['text']"
   ]
  },
  {
   "cell_type": "code",
   "execution_count": 18,
   "id": "fff59c8d-90e4-4e10-a50d-a1a51fd6e2b4",
   "metadata": {},
   "outputs": [
    {
     "data": {
      "text/html": [
       "<div>\n",
       "<style scoped>\n",
       "    .dataframe tbody tr th:only-of-type {\n",
       "        vertical-align: middle;\n",
       "    }\n",
       "\n",
       "    .dataframe tbody tr th {\n",
       "        vertical-align: top;\n",
       "    }\n",
       "\n",
       "    .dataframe thead th {\n",
       "        text-align: right;\n",
       "    }\n",
       "</style>\n",
       "<table border=\"1\" class=\"dataframe\">\n",
       "  <thead>\n",
       "    <tr style=\"text-align: right;\">\n",
       "      <th></th>\n",
       "      <th>image_id</th>\n",
       "      <th>text</th>\n",
       "      <th>img_fns</th>\n",
       "    </tr>\n",
       "  </thead>\n",
       "  <tbody>\n",
       "    <tr>\n",
       "      <th>0</th>\n",
       "      <td>31GO0eUnE7L</td>\n",
       "      <td>10 lb</td>\n",
       "      <td>G:\\My Drive\\Colab Notebooks\\git\\images\\31GO0eU...</td>\n",
       "    </tr>\n",
       "    <tr>\n",
       "      <th>1</th>\n",
       "      <td>31HOaPtWAGS</td>\n",
       "      <td>80 cm 36 cm 15 cm</td>\n",
       "      <td>G:\\My Drive\\Colab Notebooks\\git\\images\\31HOaPt...</td>\n",
       "    </tr>\n",
       "    <tr>\n",
       "      <th>2</th>\n",
       "      <td>31Fh8XDXKmL</td>\n",
       "      <td>220v</td>\n",
       "      <td>G:\\My Drive\\Colab Notebooks\\git\\images\\31Fh8XD...</td>\n",
       "    </tr>\n",
       "    <tr>\n",
       "      <th>3</th>\n",
       "      <td>31GGjka5fcL</td>\n",
       "      <td>6.29 in / 16 cm 8.26 in / 21 cm</td>\n",
       "      <td>G:\\My Drive\\Colab Notebooks\\git\\images\\31GGjka...</td>\n",
       "    </tr>\n",
       "    <tr>\n",
       "      <th>4</th>\n",
       "      <td>31FCBht4h-L</td>\n",
       "      <td>1.3 in/3.3cm 3.14 in/8 cm</td>\n",
       "      <td>G:\\My Drive\\Colab Notebooks\\git\\images\\31FCBht...</td>\n",
       "    </tr>\n",
       "  </tbody>\n",
       "</table>\n",
       "</div>"
      ],
      "text/plain": [
       "      image_id                             text  \\\n",
       "0  31GO0eUnE7L                            10 lb   \n",
       "1  31HOaPtWAGS                80 cm 36 cm 15 cm   \n",
       "2  31Fh8XDXKmL                             220v   \n",
       "3  31GGjka5fcL  6.29 in / 16 cm 8.26 in / 21 cm   \n",
       "4  31FCBht4h-L        1.3 in/3.3cm 3.14 in/8 cm   \n",
       "\n",
       "                                             img_fns  \n",
       "0  G:\\My Drive\\Colab Notebooks\\git\\images\\31GO0eU...  \n",
       "1  G:\\My Drive\\Colab Notebooks\\git\\images\\31HOaPt...  \n",
       "2  G:\\My Drive\\Colab Notebooks\\git\\images\\31Fh8XD...  \n",
       "3  G:\\My Drive\\Colab Notebooks\\git\\images\\31GGjka...  \n",
       "4  G:\\My Drive\\Colab Notebooks\\git\\images\\31FCBht...  "
      ]
     },
     "execution_count": 18,
     "metadata": {},
     "output_type": "execute_result"
    }
   ],
   "source": [
    "df.head()"
   ]
  },
  {
   "cell_type": "code",
   "execution_count": 19,
   "id": "cda02986-d055-4470-813d-ef2779ddf7c2",
   "metadata": {},
   "outputs": [
    {
     "data": {
      "text/plain": [
       "'5kg 32cm 12-00 31cm 30,5cm'"
      ]
     },
     "execution_count": 19,
     "metadata": {},
     "output_type": "execute_result"
    }
   ],
   "source": [
    "df['text'][97]"
   ]
  },
  {
   "cell_type": "code",
   "execution_count": 20,
   "id": "703013aa-97c4-48fe-b573-ef20a20a4ece",
   "metadata": {},
   "outputs": [],
   "source": [
    "def remove_space_between_number_and_two_letter_unit(text):\n",
    "    if isinstance(text, str):\n",
    "        # Define the regex pattern\n",
    "        pattern = r'(\\d+(\\.\\d+)?)\\s+([a-zA-Z]{1,3})\\b'\n",
    "        # Replace the pattern with number and unit concatenated\n",
    "        text = re.sub(pattern, r'\\1\\3', text)\n",
    "    return text"
   ]
  },
  {
   "cell_type": "code",
   "execution_count": 21,
   "id": "209d98c3-66b3-43d0-b7e6-b0dfd570c5fd",
   "metadata": {},
   "outputs": [],
   "source": [
    "df['text'] = df['text'].apply(remove_space_between_number_and_two_letter_unit)"
   ]
  },
  {
   "cell_type": "code",
   "execution_count": 22,
   "id": "0b51ff94-4b1a-4283-a7db-ae92e2bb6831",
   "metadata": {
    "scrolled": true
   },
   "outputs": [
    {
     "data": {
      "text/plain": [
       "'5kg 32cm 12-00 31cm 30,5cm'"
      ]
     },
     "execution_count": 22,
     "metadata": {},
     "output_type": "execute_result"
    }
   ],
   "source": [
    "df['text'][97]"
   ]
  },
  {
   "cell_type": "code",
   "execution_count": 23,
   "id": "6c444327-abe8-441c-842b-0a66798a07f1",
   "metadata": {},
   "outputs": [],
   "source": [
    "def extract_number_unit(text):\n",
    "    if isinstance(text, str):\n",
    "        units = ['g', 'gm', 'kg', 'mg', 'ml', 'l', 'cm', 'mm', 'm', 'oz', 'lb', 'lbs', 'pcs', 'tablet', 'tablets', 'gm25gx4', 'gms','centimetre', 'centimeter', 'cm','millimetre', 'millimeter', 'mm','metre', 'meter','m','inch', 'in', '″','foot', 'ft', '′','yard', 'yd','gram', 'grams', 'g','kilogram', 'kilograms', 'kg','milligram', 'milligrams', 'mg','microgram', 'micrograms', 'μg', 'mcg','ounce', 'ounces', 'oz','pound', 'pounds', 'lb', 'lbs','ton', 'tons', 't','volt', 'volts', 'v','kilovolt', 'kilovolts', 'kv','millivolt', 'millivolts', 'mv','watt', 'watts', 'w','kilowatt', 'kilowatts', 'kw','centilitre', 'centiliter', 'cl','decilitre', 'deciliter', 'dl','millilitre', 'milliliter', 'ml', 'mL','litre', 'liter', 'litres', 'liters', 'l', 'L','microlitre', 'microliter', 'μl', 'mcL','fluid ounce', 'fluid ounces', 'fl oz','gallon', 'gallons', 'gal','imperial gallon', 'imperial gallons', 'imp gal','cubic foot', 'cubic feet', 'ft³', 'ft^3', 'cu ft','cubic inch', 'cubic inches', 'in³', 'in^3', 'cu in','cup', 'cups', 'c','pint', 'pints', 'pt','quart', 'quarts', 'qt']\n",
    "        units_pattern = '|'.join(units)\n",
    "        # Regular expression pattern\n",
    "        pattern = r'\\b\\d+(?:\\.\\d+)?\\s*(?:' + units_pattern + r')\\b'\n",
    "        # Find all matches\n",
    "        matches = re.findall(pattern, text, flags=re.IGNORECASE)\n",
    "        return matches\n",
    "    else:\n",
    "        return None\n",
    "df['text']=df['text'].apply(extract_number_unit)"
   ]
  },
  {
   "cell_type": "code",
   "execution_count": 24,
   "id": "24b90e49-5bae-48b6-81ca-078882dc8aab",
   "metadata": {},
   "outputs": [],
   "source": [
    "df_test=pd.read_csv(r'C:\\Users\\koppu\\Documents\\TextRecognization_Image\\dataset.csv')"
   ]
  },
  {
   "cell_type": "code",
   "execution_count": 25,
   "id": "d033f052-dcfa-4fa1-ba4e-e7fd8c038061",
   "metadata": {},
   "outputs": [
    {
     "data": {
      "text/html": [
       "<div>\n",
       "<style scoped>\n",
       "    .dataframe tbody tr th:only-of-type {\n",
       "        vertical-align: middle;\n",
       "    }\n",
       "\n",
       "    .dataframe tbody tr th {\n",
       "        vertical-align: top;\n",
       "    }\n",
       "\n",
       "    .dataframe thead th {\n",
       "        text-align: right;\n",
       "    }\n",
       "</style>\n",
       "<table border=\"1\" class=\"dataframe\">\n",
       "  <thead>\n",
       "    <tr style=\"text-align: right;\">\n",
       "      <th></th>\n",
       "      <th>index</th>\n",
       "      <th>image_link</th>\n",
       "      <th>group_id</th>\n",
       "      <th>entity_name</th>\n",
       "    </tr>\n",
       "  </thead>\n",
       "  <tbody>\n",
       "    <tr>\n",
       "      <th>0</th>\n",
       "      <td>1</td>\n",
       "      <td>https://m.media-amazon.com/images/I/110EibNycl...</td>\n",
       "      <td>156839</td>\n",
       "      <td>height</td>\n",
       "    </tr>\n",
       "    <tr>\n",
       "      <th>1</th>\n",
       "      <td>2</td>\n",
       "      <td>https://m.media-amazon.com/images/I/11TU2clswz...</td>\n",
       "      <td>792578</td>\n",
       "      <td>height</td>\n",
       "    </tr>\n",
       "    <tr>\n",
       "      <th>2</th>\n",
       "      <td>3</td>\n",
       "      <td>https://m.media-amazon.com/images/I/11gHj8dhhr...</td>\n",
       "      <td>792578</td>\n",
       "      <td>height</td>\n",
       "    </tr>\n",
       "    <tr>\n",
       "      <th>3</th>\n",
       "      <td>4</td>\n",
       "      <td>https://m.media-amazon.com/images/I/11lshEUmCr...</td>\n",
       "      <td>156839</td>\n",
       "      <td>height</td>\n",
       "    </tr>\n",
       "    <tr>\n",
       "      <th>4</th>\n",
       "      <td>5</td>\n",
       "      <td>https://m.media-amazon.com/images/I/21-LmSmehZ...</td>\n",
       "      <td>478357</td>\n",
       "      <td>height</td>\n",
       "    </tr>\n",
       "  </tbody>\n",
       "</table>\n",
       "</div>"
      ],
      "text/plain": [
       "   index                                         image_link  group_id  \\\n",
       "0      1  https://m.media-amazon.com/images/I/110EibNycl...    156839   \n",
       "1      2  https://m.media-amazon.com/images/I/11TU2clswz...    792578   \n",
       "2      3  https://m.media-amazon.com/images/I/11gHj8dhhr...    792578   \n",
       "3      4  https://m.media-amazon.com/images/I/11lshEUmCr...    156839   \n",
       "4      5  https://m.media-amazon.com/images/I/21-LmSmehZ...    478357   \n",
       "\n",
       "  entity_name  \n",
       "0      height  \n",
       "1      height  \n",
       "2      height  \n",
       "3      height  \n",
       "4      height  "
      ]
     },
     "execution_count": 25,
     "metadata": {},
     "output_type": "execute_result"
    }
   ],
   "source": [
    "df_test.head()"
   ]
  },
  {
   "cell_type": "code",
   "execution_count": 26,
   "id": "82e7bcdb-231b-40da-a215-50533df9478e",
   "metadata": {},
   "outputs": [
    {
     "data": {
      "text/html": [
       "<div>\n",
       "<style scoped>\n",
       "    .dataframe tbody tr th:only-of-type {\n",
       "        vertical-align: middle;\n",
       "    }\n",
       "\n",
       "    .dataframe tbody tr th {\n",
       "        vertical-align: top;\n",
       "    }\n",
       "\n",
       "    .dataframe thead th {\n",
       "        text-align: right;\n",
       "    }\n",
       "</style>\n",
       "<table border=\"1\" class=\"dataframe\">\n",
       "  <thead>\n",
       "    <tr style=\"text-align: right;\">\n",
       "      <th></th>\n",
       "      <th>image_id</th>\n",
       "      <th>text</th>\n",
       "      <th>img_fns</th>\n",
       "    </tr>\n",
       "  </thead>\n",
       "  <tbody>\n",
       "    <tr>\n",
       "      <th>0</th>\n",
       "      <td>31GO0eUnE7L</td>\n",
       "      <td>[10lb]</td>\n",
       "      <td>G:\\My Drive\\Colab Notebooks\\git\\images\\31GO0eU...</td>\n",
       "    </tr>\n",
       "    <tr>\n",
       "      <th>1</th>\n",
       "      <td>31HOaPtWAGS</td>\n",
       "      <td>[80cm, 36cm, 15cm]</td>\n",
       "      <td>G:\\My Drive\\Colab Notebooks\\git\\images\\31HOaPt...</td>\n",
       "    </tr>\n",
       "    <tr>\n",
       "      <th>2</th>\n",
       "      <td>31Fh8XDXKmL</td>\n",
       "      <td>[220v]</td>\n",
       "      <td>G:\\My Drive\\Colab Notebooks\\git\\images\\31Fh8XD...</td>\n",
       "    </tr>\n",
       "    <tr>\n",
       "      <th>3</th>\n",
       "      <td>31GGjka5fcL</td>\n",
       "      <td>[6.29in, 16cm, 8.26in, 21cm]</td>\n",
       "      <td>G:\\My Drive\\Colab Notebooks\\git\\images\\31GGjka...</td>\n",
       "    </tr>\n",
       "    <tr>\n",
       "      <th>4</th>\n",
       "      <td>31FCBht4h-L</td>\n",
       "      <td>[1.3in, 3.3cm, 3.14in, 8cm]</td>\n",
       "      <td>G:\\My Drive\\Colab Notebooks\\git\\images\\31FCBht...</td>\n",
       "    </tr>\n",
       "    <tr>\n",
       "      <th>...</th>\n",
       "      <td>...</td>\n",
       "      <td>...</td>\n",
       "      <td>...</td>\n",
       "    </tr>\n",
       "    <tr>\n",
       "      <th>495</th>\n",
       "      <td>31HYQmLB4qL</td>\n",
       "      <td>[2.5in, 6.4cm, 4.6in, 3.4in, 8.7cm, 11.7cm]</td>\n",
       "      <td>G:\\My Drive\\Colab Notebooks\\git\\images\\31HYQmL...</td>\n",
       "    </tr>\n",
       "    <tr>\n",
       "      <th>496</th>\n",
       "      <td>31IG-j-JjwL</td>\n",
       "      <td>[20mm, 40mm, 7mm]</td>\n",
       "      <td>G:\\My Drive\\Colab Notebooks\\git\\images\\31IG-j-...</td>\n",
       "    </tr>\n",
       "    <tr>\n",
       "      <th>497</th>\n",
       "      <td>31J6aKJ4NkS</td>\n",
       "      <td>[5.5in, 14.2cm, 2.1in, 5.5cm]</td>\n",
       "      <td>G:\\My Drive\\Colab Notebooks\\git\\images\\31J6aKJ...</td>\n",
       "    </tr>\n",
       "    <tr>\n",
       "      <th>498</th>\n",
       "      <td>31JVaJ+Ks6L</td>\n",
       "      <td>[500g]</td>\n",
       "      <td>G:\\My Drive\\Colab Notebooks\\git\\images\\31JVaJ+...</td>\n",
       "    </tr>\n",
       "    <tr>\n",
       "      <th>499</th>\n",
       "      <td>31Hz3Wm0bVL</td>\n",
       "      <td>[17in, 17in, 36in]</td>\n",
       "      <td>G:\\My Drive\\Colab Notebooks\\git\\images\\31Hz3Wm...</td>\n",
       "    </tr>\n",
       "  </tbody>\n",
       "</table>\n",
       "<p>500 rows × 3 columns</p>\n",
       "</div>"
      ],
      "text/plain": [
       "        image_id                                         text  \\\n",
       "0    31GO0eUnE7L                                       [10lb]   \n",
       "1    31HOaPtWAGS                           [80cm, 36cm, 15cm]   \n",
       "2    31Fh8XDXKmL                                       [220v]   \n",
       "3    31GGjka5fcL                 [6.29in, 16cm, 8.26in, 21cm]   \n",
       "4    31FCBht4h-L                  [1.3in, 3.3cm, 3.14in, 8cm]   \n",
       "..           ...                                          ...   \n",
       "495  31HYQmLB4qL  [2.5in, 6.4cm, 4.6in, 3.4in, 8.7cm, 11.7cm]   \n",
       "496  31IG-j-JjwL                            [20mm, 40mm, 7mm]   \n",
       "497  31J6aKJ4NkS                [5.5in, 14.2cm, 2.1in, 5.5cm]   \n",
       "498  31JVaJ+Ks6L                                       [500g]   \n",
       "499  31Hz3Wm0bVL                           [17in, 17in, 36in]   \n",
       "\n",
       "                                               img_fns  \n",
       "0    G:\\My Drive\\Colab Notebooks\\git\\images\\31GO0eU...  \n",
       "1    G:\\My Drive\\Colab Notebooks\\git\\images\\31HOaPt...  \n",
       "2    G:\\My Drive\\Colab Notebooks\\git\\images\\31Fh8XD...  \n",
       "3    G:\\My Drive\\Colab Notebooks\\git\\images\\31GGjka...  \n",
       "4    G:\\My Drive\\Colab Notebooks\\git\\images\\31FCBht...  \n",
       "..                                                 ...  \n",
       "495  G:\\My Drive\\Colab Notebooks\\git\\images\\31HYQmL...  \n",
       "496  G:\\My Drive\\Colab Notebooks\\git\\images\\31IG-j-...  \n",
       "497  G:\\My Drive\\Colab Notebooks\\git\\images\\31J6aKJ...  \n",
       "498  G:\\My Drive\\Colab Notebooks\\git\\images\\31JVaJ+...  \n",
       "499  G:\\My Drive\\Colab Notebooks\\git\\images\\31Hz3Wm...  \n",
       "\n",
       "[500 rows x 3 columns]"
      ]
     },
     "execution_count": 26,
     "metadata": {},
     "output_type": "execute_result"
    }
   ],
   "source": [
    "df_test['image_id'] = df_test['image_link'].apply(lambda x: x.split('/')[-1].split('.')[0])\n",
    "df\n"
   ]
  },
  {
   "cell_type": "code",
   "execution_count": 27,
   "id": "18b3665d-61a5-4d7a-bacb-4ab4396ec105",
   "metadata": {},
   "outputs": [],
   "source": [
    "#df_test = df_test.drop('image_link', axis=1)"
   ]
  },
  {
   "cell_type": "code",
   "execution_count": 28,
   "id": "cf5f15b5-919d-44d3-8479-4284650c708d",
   "metadata": {},
   "outputs": [
    {
     "data": {
      "text/html": [
       "<div>\n",
       "<style scoped>\n",
       "    .dataframe tbody tr th:only-of-type {\n",
       "        vertical-align: middle;\n",
       "    }\n",
       "\n",
       "    .dataframe tbody tr th {\n",
       "        vertical-align: top;\n",
       "    }\n",
       "\n",
       "    .dataframe thead th {\n",
       "        text-align: right;\n",
       "    }\n",
       "</style>\n",
       "<table border=\"1\" class=\"dataframe\">\n",
       "  <thead>\n",
       "    <tr style=\"text-align: right;\">\n",
       "      <th></th>\n",
       "      <th>index</th>\n",
       "      <th>image_link</th>\n",
       "      <th>group_id</th>\n",
       "      <th>entity_name</th>\n",
       "      <th>image_id</th>\n",
       "    </tr>\n",
       "  </thead>\n",
       "  <tbody>\n",
       "    <tr>\n",
       "      <th>0</th>\n",
       "      <td>1</td>\n",
       "      <td>https://m.media-amazon.com/images/I/110EibNycl...</td>\n",
       "      <td>156839</td>\n",
       "      <td>height</td>\n",
       "      <td>110EibNyclL</td>\n",
       "    </tr>\n",
       "    <tr>\n",
       "      <th>1</th>\n",
       "      <td>2</td>\n",
       "      <td>https://m.media-amazon.com/images/I/11TU2clswz...</td>\n",
       "      <td>792578</td>\n",
       "      <td>height</td>\n",
       "      <td>11TU2clswzL</td>\n",
       "    </tr>\n",
       "    <tr>\n",
       "      <th>2</th>\n",
       "      <td>3</td>\n",
       "      <td>https://m.media-amazon.com/images/I/11gHj8dhhr...</td>\n",
       "      <td>792578</td>\n",
       "      <td>height</td>\n",
       "      <td>11gHj8dhhrL</td>\n",
       "    </tr>\n",
       "    <tr>\n",
       "      <th>3</th>\n",
       "      <td>4</td>\n",
       "      <td>https://m.media-amazon.com/images/I/11lshEUmCr...</td>\n",
       "      <td>156839</td>\n",
       "      <td>height</td>\n",
       "      <td>11lshEUmCrL</td>\n",
       "    </tr>\n",
       "    <tr>\n",
       "      <th>4</th>\n",
       "      <td>5</td>\n",
       "      <td>https://m.media-amazon.com/images/I/21-LmSmehZ...</td>\n",
       "      <td>478357</td>\n",
       "      <td>height</td>\n",
       "      <td>21-LmSmehZL</td>\n",
       "    </tr>\n",
       "  </tbody>\n",
       "</table>\n",
       "</div>"
      ],
      "text/plain": [
       "   index                                         image_link  group_id  \\\n",
       "0      1  https://m.media-amazon.com/images/I/110EibNycl...    156839   \n",
       "1      2  https://m.media-amazon.com/images/I/11TU2clswz...    792578   \n",
       "2      3  https://m.media-amazon.com/images/I/11gHj8dhhr...    792578   \n",
       "3      4  https://m.media-amazon.com/images/I/11lshEUmCr...    156839   \n",
       "4      5  https://m.media-amazon.com/images/I/21-LmSmehZ...    478357   \n",
       "\n",
       "  entity_name     image_id  \n",
       "0      height  110EibNyclL  \n",
       "1      height  11TU2clswzL  \n",
       "2      height  11gHj8dhhrL  \n",
       "3      height  11lshEUmCrL  \n",
       "4      height  21-LmSmehZL  "
      ]
     },
     "execution_count": 28,
     "metadata": {},
     "output_type": "execute_result"
    }
   ],
   "source": [
    "df_test.head()"
   ]
  },
  {
   "cell_type": "code",
   "execution_count": 29,
   "id": "f9e37ff1-d206-4de4-904f-8bfed58cb138",
   "metadata": {},
   "outputs": [],
   "source": [
    "df['image_id'] = df['image_id'].astype(str)\n",
    "df_test['image_id'] = df_test['image_id'].astype(str)"
   ]
  },
  {
   "cell_type": "code",
   "execution_count": 30,
   "id": "c08d09ad-b278-4518-a1f3-e36ac9aa9765",
   "metadata": {},
   "outputs": [],
   "source": [
    "final_df = pd.merge(df, df_test, on='image_id')"
   ]
  },
  {
   "cell_type": "code",
   "execution_count": 31,
   "id": "550c8a90-d60f-4440-af22-68f8c36e93ad",
   "metadata": {},
   "outputs": [
    {
     "data": {
      "text/html": [
       "<div>\n",
       "<style scoped>\n",
       "    .dataframe tbody tr th:only-of-type {\n",
       "        vertical-align: middle;\n",
       "    }\n",
       "\n",
       "    .dataframe tbody tr th {\n",
       "        vertical-align: top;\n",
       "    }\n",
       "\n",
       "    .dataframe thead th {\n",
       "        text-align: right;\n",
       "    }\n",
       "</style>\n",
       "<table border=\"1\" class=\"dataframe\">\n",
       "  <thead>\n",
       "    <tr style=\"text-align: right;\">\n",
       "      <th></th>\n",
       "      <th>image_id</th>\n",
       "      <th>text</th>\n",
       "      <th>img_fns</th>\n",
       "      <th>index</th>\n",
       "      <th>image_link</th>\n",
       "      <th>group_id</th>\n",
       "      <th>entity_name</th>\n",
       "    </tr>\n",
       "  </thead>\n",
       "  <tbody>\n",
       "    <tr>\n",
       "      <th>0</th>\n",
       "      <td>31GO0eUnE7L</td>\n",
       "      <td>[10lb]</td>\n",
       "      <td>G:\\My Drive\\Colab Notebooks\\git\\images\\31GO0eU...</td>\n",
       "      <td>239</td>\n",
       "      <td>https://m.media-amazon.com/images/I/31GO0eUnE7...</td>\n",
       "      <td>601746</td>\n",
       "      <td>item_weight</td>\n",
       "    </tr>\n",
       "    <tr>\n",
       "      <th>1</th>\n",
       "      <td>31HOaPtWAGS</td>\n",
       "      <td>[80cm, 36cm, 15cm]</td>\n",
       "      <td>G:\\My Drive\\Colab Notebooks\\git\\images\\31HOaPt...</td>\n",
       "      <td>250</td>\n",
       "      <td>https://m.media-amazon.com/images/I/31HOaPtWAG...</td>\n",
       "      <td>276611</td>\n",
       "      <td>height</td>\n",
       "    </tr>\n",
       "    <tr>\n",
       "      <th>2</th>\n",
       "      <td>31Fh8XDXKmL</td>\n",
       "      <td>[220v]</td>\n",
       "      <td>G:\\My Drive\\Colab Notebooks\\git\\images\\31Fh8XD...</td>\n",
       "      <td>230</td>\n",
       "      <td>https://m.media-amazon.com/images/I/31Fh8XDXKm...</td>\n",
       "      <td>306956</td>\n",
       "      <td>voltage</td>\n",
       "    </tr>\n",
       "    <tr>\n",
       "      <th>3</th>\n",
       "      <td>31GGjka5fcL</td>\n",
       "      <td>[6.29in, 16cm, 8.26in, 21cm]</td>\n",
       "      <td>G:\\My Drive\\Colab Notebooks\\git\\images\\31GGjka...</td>\n",
       "      <td>235</td>\n",
       "      <td>https://m.media-amazon.com/images/I/31GGjka5fc...</td>\n",
       "      <td>916768</td>\n",
       "      <td>height</td>\n",
       "    </tr>\n",
       "    <tr>\n",
       "      <th>4</th>\n",
       "      <td>31FCBht4h-L</td>\n",
       "      <td>[1.3in, 3.3cm, 3.14in, 8cm]</td>\n",
       "      <td>G:\\My Drive\\Colab Notebooks\\git\\images\\31FCBht...</td>\n",
       "      <td>227</td>\n",
       "      <td>https://m.media-amazon.com/images/I/31FCBht4h-...</td>\n",
       "      <td>436746</td>\n",
       "      <td>height</td>\n",
       "    </tr>\n",
       "  </tbody>\n",
       "</table>\n",
       "</div>"
      ],
      "text/plain": [
       "      image_id                          text  \\\n",
       "0  31GO0eUnE7L                        [10lb]   \n",
       "1  31HOaPtWAGS            [80cm, 36cm, 15cm]   \n",
       "2  31Fh8XDXKmL                        [220v]   \n",
       "3  31GGjka5fcL  [6.29in, 16cm, 8.26in, 21cm]   \n",
       "4  31FCBht4h-L   [1.3in, 3.3cm, 3.14in, 8cm]   \n",
       "\n",
       "                                             img_fns  index  \\\n",
       "0  G:\\My Drive\\Colab Notebooks\\git\\images\\31GO0eU...    239   \n",
       "1  G:\\My Drive\\Colab Notebooks\\git\\images\\31HOaPt...    250   \n",
       "2  G:\\My Drive\\Colab Notebooks\\git\\images\\31Fh8XD...    230   \n",
       "3  G:\\My Drive\\Colab Notebooks\\git\\images\\31GGjka...    235   \n",
       "4  G:\\My Drive\\Colab Notebooks\\git\\images\\31FCBht...    227   \n",
       "\n",
       "                                          image_link  group_id  entity_name  \n",
       "0  https://m.media-amazon.com/images/I/31GO0eUnE7...    601746  item_weight  \n",
       "1  https://m.media-amazon.com/images/I/31HOaPtWAG...    276611       height  \n",
       "2  https://m.media-amazon.com/images/I/31Fh8XDXKm...    306956      voltage  \n",
       "3  https://m.media-amazon.com/images/I/31GGjka5fc...    916768       height  \n",
       "4  https://m.media-amazon.com/images/I/31FCBht4h-...    436746       height  "
      ]
     },
     "execution_count": 31,
     "metadata": {},
     "output_type": "execute_result"
    }
   ],
   "source": [
    "final_df.head()"
   ]
  },
  {
   "cell_type": "code",
   "execution_count": 32,
   "id": "2de6cc80-f9eb-4d91-859c-bf14f0063906",
   "metadata": {},
   "outputs": [
    {
     "name": "stdout",
     "output_type": "stream",
     "text": [
      "        image_id                                         text  \\\n",
      "0    31GO0eUnE7L                                       [10lb]   \n",
      "1    31HOaPtWAGS                           [80cm, 36cm, 15cm]   \n",
      "2    31Fh8XDXKmL                                       [220v]   \n",
      "3    31GGjka5fcL                 [6.29in, 16cm, 8.26in, 21cm]   \n",
      "4    31FCBht4h-L                  [1.3in, 3.3cm, 3.14in, 8cm]   \n",
      "..           ...                                          ...   \n",
      "495  31HYQmLB4qL  [2.5in, 6.4cm, 4.6in, 3.4in, 8.7cm, 11.7cm]   \n",
      "496  31IG-j-JjwL                            [20mm, 40mm, 7mm]   \n",
      "497  31J6aKJ4NkS                [5.5in, 14.2cm, 2.1in, 5.5cm]   \n",
      "498  31JVaJ+Ks6L                                       [500g]   \n",
      "499  31Hz3Wm0bVL                           [17in, 17in, 36in]   \n",
      "\n",
      "                                               img_fns  index  \\\n",
      "0    G:\\My Drive\\Colab Notebooks\\git\\images\\31GO0eU...    239   \n",
      "1    G:\\My Drive\\Colab Notebooks\\git\\images\\31HOaPt...    250   \n",
      "2    G:\\My Drive\\Colab Notebooks\\git\\images\\31Fh8XD...    230   \n",
      "3    G:\\My Drive\\Colab Notebooks\\git\\images\\31GGjka...    235   \n",
      "4    G:\\My Drive\\Colab Notebooks\\git\\images\\31FCBht...    227   \n",
      "..                                                 ...    ...   \n",
      "495  G:\\My Drive\\Colab Notebooks\\git\\images\\31HYQmL...    253   \n",
      "496  G:\\My Drive\\Colab Notebooks\\git\\images\\31IG-j-...    263   \n",
      "497  G:\\My Drive\\Colab Notebooks\\git\\images\\31J6aKJ...    267   \n",
      "498  G:\\My Drive\\Colab Notebooks\\git\\images\\31JVaJ+...    271   \n",
      "499  G:\\My Drive\\Colab Notebooks\\git\\images\\31Hz3Wm...    260   \n",
      "\n",
      "                                            image_link  group_id  entity_name  \\\n",
      "0    https://m.media-amazon.com/images/I/31GO0eUnE7...    601746  item_weight   \n",
      "1    https://m.media-amazon.com/images/I/31HOaPtWAG...    276611       height   \n",
      "2    https://m.media-amazon.com/images/I/31Fh8XDXKm...    306956      voltage   \n",
      "3    https://m.media-amazon.com/images/I/31GGjka5fc...    916768       height   \n",
      "4    https://m.media-amazon.com/images/I/31FCBht4h-...    436746       height   \n",
      "..                                                 ...       ...          ...   \n",
      "495  https://m.media-amazon.com/images/I/31HYQmLB4q...    810266       height   \n",
      "496  https://m.media-amazon.com/images/I/31IG-j-Jjw...    351134       height   \n",
      "497  https://m.media-amazon.com/images/I/31J6aKJ4Nk...    113134       height   \n",
      "498  https://m.media-amazon.com/images/I/31JVaJ+Ks6...    375816  item_weight   \n",
      "499  https://m.media-amazon.com/images/I/31Hz3Wm0bV...    347404  item_weight   \n",
      "\n",
      "    predict  \n",
      "0      10lb  \n",
      "1      80cm  \n",
      "2      220v  \n",
      "3      16cm  \n",
      "4     3.3cm  \n",
      "..      ...  \n",
      "495   6.4cm  \n",
      "496    20mm  \n",
      "497  14.2cm  \n",
      "498    500g  \n",
      "499    None  \n",
      "\n",
      "[500 rows x 8 columns]\n"
     ]
    }
   ],
   "source": [
    "def extract_measurement(row):\n",
    "    unit_map = {\n",
    "        \"item_volume\": ['ml', 'l', 'centilitre', 'decilitre', 'millilitre', 'litre', 'microlitre', 'fluid ounce', 'gallon', 'imperial gallon', 'cubic foot', 'cubic inch', 'cup', 'pint', 'quart'],\n",
    "        \"width\": ['c','cm', 'mm', 'm', 'inch', 'foot', 'yard','in','ft'],\n",
    "        \"depth\": ['c','cm', 'mm', 'm', 'inch', 'foot', 'yard','in','ft'],\n",
    "        \"height\": ['c','cm', 'mm', 'm', 'inch', 'foot', 'yard','ft'],\n",
    "        \"item_weight\": ['g', 'kg', 'mg', 'oz', 'lb', 'lbs', 'gram', 'kilogram', 'milligram', 'microgram', 'ounce', 'pound', 'ton'],\n",
    "        \"maximum_weight_recommendation\": ['g', 'kg', 'mg', 'oz', 'lb', 'lbs', 'gram', 'kilogram', 'milligram', 'microgram', 'ounce', 'pound', 'ton'],\n",
    "        \"voltage\": ['volt', 'volts', 'kilovolt', 'millivolt','v'],\n",
    "        \"wattage\": ['watt', 'watts', 'kilowatt','w']\n",
    "    }\n",
    "    units = unit_map[row['entity_name']]\n",
    "    # Check each item in the list 'text'\n",
    "    for text in row['text']:\n",
    "        for unit in units:  # Iterate over each unit in the list\n",
    "            if unit in text:  # Correctly compare string to string\n",
    "                return text\n",
    "    return None\n",
    "\n",
    "# Apply the function to create a new column\n",
    "final_df['predict'] = final_df.apply(extract_measurement, axis=1)\n",
    "\n",
    "print(final_df)\n"
   ]
  },
  {
   "cell_type": "code",
   "execution_count": 33,
   "id": "68f2a03d-e516-48ea-8145-a5f44fff7048",
   "metadata": {},
   "outputs": [
    {
     "data": {
      "text/html": [
       "<div>\n",
       "<style scoped>\n",
       "    .dataframe tbody tr th:only-of-type {\n",
       "        vertical-align: middle;\n",
       "    }\n",
       "\n",
       "    .dataframe tbody tr th {\n",
       "        vertical-align: top;\n",
       "    }\n",
       "\n",
       "    .dataframe thead th {\n",
       "        text-align: right;\n",
       "    }\n",
       "</style>\n",
       "<table border=\"1\" class=\"dataframe\">\n",
       "  <thead>\n",
       "    <tr style=\"text-align: right;\">\n",
       "      <th></th>\n",
       "      <th>image_id</th>\n",
       "      <th>text</th>\n",
       "      <th>img_fns</th>\n",
       "      <th>index</th>\n",
       "      <th>image_link</th>\n",
       "      <th>group_id</th>\n",
       "      <th>entity_name</th>\n",
       "      <th>predict</th>\n",
       "    </tr>\n",
       "  </thead>\n",
       "  <tbody>\n",
       "    <tr>\n",
       "      <th>0</th>\n",
       "      <td>31GO0eUnE7L</td>\n",
       "      <td>[10lb]</td>\n",
       "      <td>G:\\My Drive\\Colab Notebooks\\git\\images\\31GO0eU...</td>\n",
       "      <td>239</td>\n",
       "      <td>https://m.media-amazon.com/images/I/31GO0eUnE7...</td>\n",
       "      <td>601746</td>\n",
       "      <td>item_weight</td>\n",
       "      <td>10lb</td>\n",
       "    </tr>\n",
       "    <tr>\n",
       "      <th>1</th>\n",
       "      <td>31HOaPtWAGS</td>\n",
       "      <td>[80cm, 36cm, 15cm]</td>\n",
       "      <td>G:\\My Drive\\Colab Notebooks\\git\\images\\31HOaPt...</td>\n",
       "      <td>250</td>\n",
       "      <td>https://m.media-amazon.com/images/I/31HOaPtWAG...</td>\n",
       "      <td>276611</td>\n",
       "      <td>height</td>\n",
       "      <td>80cm</td>\n",
       "    </tr>\n",
       "    <tr>\n",
       "      <th>2</th>\n",
       "      <td>31Fh8XDXKmL</td>\n",
       "      <td>[220v]</td>\n",
       "      <td>G:\\My Drive\\Colab Notebooks\\git\\images\\31Fh8XD...</td>\n",
       "      <td>230</td>\n",
       "      <td>https://m.media-amazon.com/images/I/31Fh8XDXKm...</td>\n",
       "      <td>306956</td>\n",
       "      <td>voltage</td>\n",
       "      <td>220v</td>\n",
       "    </tr>\n",
       "    <tr>\n",
       "      <th>3</th>\n",
       "      <td>31GGjka5fcL</td>\n",
       "      <td>[6.29in, 16cm, 8.26in, 21cm]</td>\n",
       "      <td>G:\\My Drive\\Colab Notebooks\\git\\images\\31GGjka...</td>\n",
       "      <td>235</td>\n",
       "      <td>https://m.media-amazon.com/images/I/31GGjka5fc...</td>\n",
       "      <td>916768</td>\n",
       "      <td>height</td>\n",
       "      <td>16cm</td>\n",
       "    </tr>\n",
       "    <tr>\n",
       "      <th>4</th>\n",
       "      <td>31FCBht4h-L</td>\n",
       "      <td>[1.3in, 3.3cm, 3.14in, 8cm]</td>\n",
       "      <td>G:\\My Drive\\Colab Notebooks\\git\\images\\31FCBht...</td>\n",
       "      <td>227</td>\n",
       "      <td>https://m.media-amazon.com/images/I/31FCBht4h-...</td>\n",
       "      <td>436746</td>\n",
       "      <td>height</td>\n",
       "      <td>3.3cm</td>\n",
       "    </tr>\n",
       "  </tbody>\n",
       "</table>\n",
       "</div>"
      ],
      "text/plain": [
       "      image_id                          text  \\\n",
       "0  31GO0eUnE7L                        [10lb]   \n",
       "1  31HOaPtWAGS            [80cm, 36cm, 15cm]   \n",
       "2  31Fh8XDXKmL                        [220v]   \n",
       "3  31GGjka5fcL  [6.29in, 16cm, 8.26in, 21cm]   \n",
       "4  31FCBht4h-L   [1.3in, 3.3cm, 3.14in, 8cm]   \n",
       "\n",
       "                                             img_fns  index  \\\n",
       "0  G:\\My Drive\\Colab Notebooks\\git\\images\\31GO0eU...    239   \n",
       "1  G:\\My Drive\\Colab Notebooks\\git\\images\\31HOaPt...    250   \n",
       "2  G:\\My Drive\\Colab Notebooks\\git\\images\\31Fh8XD...    230   \n",
       "3  G:\\My Drive\\Colab Notebooks\\git\\images\\31GGjka...    235   \n",
       "4  G:\\My Drive\\Colab Notebooks\\git\\images\\31FCBht...    227   \n",
       "\n",
       "                                          image_link  group_id  entity_name  \\\n",
       "0  https://m.media-amazon.com/images/I/31GO0eUnE7...    601746  item_weight   \n",
       "1  https://m.media-amazon.com/images/I/31HOaPtWAG...    276611       height   \n",
       "2  https://m.media-amazon.com/images/I/31Fh8XDXKm...    306956      voltage   \n",
       "3  https://m.media-amazon.com/images/I/31GGjka5fc...    916768       height   \n",
       "4  https://m.media-amazon.com/images/I/31FCBht4h-...    436746       height   \n",
       "\n",
       "  predict  \n",
       "0    10lb  \n",
       "1    80cm  \n",
       "2    220v  \n",
       "3    16cm  \n",
       "4   3.3cm  "
      ]
     },
     "execution_count": 33,
     "metadata": {},
     "output_type": "execute_result"
    }
   ],
   "source": [
    "final_df.head()"
   ]
  },
  {
   "cell_type": "code",
   "execution_count": 34,
   "id": "91fae683-0ad1-48e4-84f3-d1642fcb742e",
   "metadata": {},
   "outputs": [
    {
     "data": {
      "text/plain": [
       "212"
      ]
     },
     "execution_count": 34,
     "metadata": {},
     "output_type": "execute_result"
    }
   ],
   "source": [
    "final_df['predict'].isnull().sum()"
   ]
  },
  {
   "cell_type": "code",
   "execution_count": 35,
   "id": "d0ce0100-a78a-4824-93a3-d60ae5f77f81",
   "metadata": {},
   "outputs": [
    {
     "data": {
      "text/html": [
       "<div>\n",
       "<style scoped>\n",
       "    .dataframe tbody tr th:only-of-type {\n",
       "        vertical-align: middle;\n",
       "    }\n",
       "\n",
       "    .dataframe tbody tr th {\n",
       "        vertical-align: top;\n",
       "    }\n",
       "\n",
       "    .dataframe thead th {\n",
       "        text-align: right;\n",
       "    }\n",
       "</style>\n",
       "<table border=\"1\" class=\"dataframe\">\n",
       "  <thead>\n",
       "    <tr style=\"text-align: right;\">\n",
       "      <th></th>\n",
       "      <th>image_id</th>\n",
       "      <th>text</th>\n",
       "      <th>img_fns</th>\n",
       "      <th>index</th>\n",
       "      <th>image_link</th>\n",
       "      <th>group_id</th>\n",
       "      <th>entity_name</th>\n",
       "      <th>predict</th>\n",
       "    </tr>\n",
       "  </thead>\n",
       "  <tbody>\n",
       "    <tr>\n",
       "      <th>0</th>\n",
       "      <td>31GO0eUnE7L</td>\n",
       "      <td>[10lb]</td>\n",
       "      <td>G:\\My Drive\\Colab Notebooks\\git\\images\\31GO0eU...</td>\n",
       "      <td>239</td>\n",
       "      <td>https://m.media-amazon.com/images/I/31GO0eUnE7...</td>\n",
       "      <td>601746</td>\n",
       "      <td>item_weight</td>\n",
       "      <td>10lb</td>\n",
       "    </tr>\n",
       "    <tr>\n",
       "      <th>1</th>\n",
       "      <td>31HOaPtWAGS</td>\n",
       "      <td>[80cm, 36cm, 15cm]</td>\n",
       "      <td>G:\\My Drive\\Colab Notebooks\\git\\images\\31HOaPt...</td>\n",
       "      <td>250</td>\n",
       "      <td>https://m.media-amazon.com/images/I/31HOaPtWAG...</td>\n",
       "      <td>276611</td>\n",
       "      <td>height</td>\n",
       "      <td>80cm</td>\n",
       "    </tr>\n",
       "    <tr>\n",
       "      <th>2</th>\n",
       "      <td>31Fh8XDXKmL</td>\n",
       "      <td>[220v]</td>\n",
       "      <td>G:\\My Drive\\Colab Notebooks\\git\\images\\31Fh8XD...</td>\n",
       "      <td>230</td>\n",
       "      <td>https://m.media-amazon.com/images/I/31Fh8XDXKm...</td>\n",
       "      <td>306956</td>\n",
       "      <td>voltage</td>\n",
       "      <td>220v</td>\n",
       "    </tr>\n",
       "    <tr>\n",
       "      <th>3</th>\n",
       "      <td>31GGjka5fcL</td>\n",
       "      <td>[6.29in, 16cm, 8.26in, 21cm]</td>\n",
       "      <td>G:\\My Drive\\Colab Notebooks\\git\\images\\31GGjka...</td>\n",
       "      <td>235</td>\n",
       "      <td>https://m.media-amazon.com/images/I/31GGjka5fc...</td>\n",
       "      <td>916768</td>\n",
       "      <td>height</td>\n",
       "      <td>16cm</td>\n",
       "    </tr>\n",
       "    <tr>\n",
       "      <th>4</th>\n",
       "      <td>31FCBht4h-L</td>\n",
       "      <td>[1.3in, 3.3cm, 3.14in, 8cm]</td>\n",
       "      <td>G:\\My Drive\\Colab Notebooks\\git\\images\\31FCBht...</td>\n",
       "      <td>227</td>\n",
       "      <td>https://m.media-amazon.com/images/I/31FCBht4h-...</td>\n",
       "      <td>436746</td>\n",
       "      <td>height</td>\n",
       "      <td>3.3cm</td>\n",
       "    </tr>\n",
       "  </tbody>\n",
       "</table>\n",
       "</div>"
      ],
      "text/plain": [
       "      image_id                          text  \\\n",
       "0  31GO0eUnE7L                        [10lb]   \n",
       "1  31HOaPtWAGS            [80cm, 36cm, 15cm]   \n",
       "2  31Fh8XDXKmL                        [220v]   \n",
       "3  31GGjka5fcL  [6.29in, 16cm, 8.26in, 21cm]   \n",
       "4  31FCBht4h-L   [1.3in, 3.3cm, 3.14in, 8cm]   \n",
       "\n",
       "                                             img_fns  index  \\\n",
       "0  G:\\My Drive\\Colab Notebooks\\git\\images\\31GO0eU...    239   \n",
       "1  G:\\My Drive\\Colab Notebooks\\git\\images\\31HOaPt...    250   \n",
       "2  G:\\My Drive\\Colab Notebooks\\git\\images\\31Fh8XD...    230   \n",
       "3  G:\\My Drive\\Colab Notebooks\\git\\images\\31GGjka...    235   \n",
       "4  G:\\My Drive\\Colab Notebooks\\git\\images\\31FCBht...    227   \n",
       "\n",
       "                                          image_link  group_id  entity_name  \\\n",
       "0  https://m.media-amazon.com/images/I/31GO0eUnE7...    601746  item_weight   \n",
       "1  https://m.media-amazon.com/images/I/31HOaPtWAG...    276611       height   \n",
       "2  https://m.media-amazon.com/images/I/31Fh8XDXKm...    306956      voltage   \n",
       "3  https://m.media-amazon.com/images/I/31GGjka5fc...    916768       height   \n",
       "4  https://m.media-amazon.com/images/I/31FCBht4h-...    436746       height   \n",
       "\n",
       "  predict  \n",
       "0    10lb  \n",
       "1    80cm  \n",
       "2    220v  \n",
       "3    16cm  \n",
       "4   3.3cm  "
      ]
     },
     "execution_count": 35,
     "metadata": {},
     "output_type": "execute_result"
    }
   ],
   "source": [
    "final_df[:5]"
   ]
  },
  {
   "cell_type": "code",
   "execution_count": 36,
   "id": "8f127c5b-d370-4af4-bad9-c30ad685d968",
   "metadata": {},
   "outputs": [],
   "source": [
    "final_df=final_df.drop(['text','group_id',\"index\",'image_id','img_fns'],axis=1)"
   ]
  },
  {
   "cell_type": "code",
   "execution_count": 37,
   "id": "52184243-2080-4704-a990-4b3116e367e2",
   "metadata": {},
   "outputs": [
    {
     "data": {
      "text/html": [
       "<div>\n",
       "<style scoped>\n",
       "    .dataframe tbody tr th:only-of-type {\n",
       "        vertical-align: middle;\n",
       "    }\n",
       "\n",
       "    .dataframe tbody tr th {\n",
       "        vertical-align: top;\n",
       "    }\n",
       "\n",
       "    .dataframe thead th {\n",
       "        text-align: right;\n",
       "    }\n",
       "</style>\n",
       "<table border=\"1\" class=\"dataframe\">\n",
       "  <thead>\n",
       "    <tr style=\"text-align: right;\">\n",
       "      <th></th>\n",
       "      <th>image_link</th>\n",
       "      <th>entity_name</th>\n",
       "      <th>predict</th>\n",
       "    </tr>\n",
       "  </thead>\n",
       "  <tbody>\n",
       "    <tr>\n",
       "      <th>0</th>\n",
       "      <td>https://m.media-amazon.com/images/I/31GO0eUnE7...</td>\n",
       "      <td>item_weight</td>\n",
       "      <td>10lb</td>\n",
       "    </tr>\n",
       "    <tr>\n",
       "      <th>1</th>\n",
       "      <td>https://m.media-amazon.com/images/I/31HOaPtWAG...</td>\n",
       "      <td>height</td>\n",
       "      <td>80cm</td>\n",
       "    </tr>\n",
       "    <tr>\n",
       "      <th>2</th>\n",
       "      <td>https://m.media-amazon.com/images/I/31Fh8XDXKm...</td>\n",
       "      <td>voltage</td>\n",
       "      <td>220v</td>\n",
       "    </tr>\n",
       "    <tr>\n",
       "      <th>3</th>\n",
       "      <td>https://m.media-amazon.com/images/I/31GGjka5fc...</td>\n",
       "      <td>height</td>\n",
       "      <td>16cm</td>\n",
       "    </tr>\n",
       "    <tr>\n",
       "      <th>4</th>\n",
       "      <td>https://m.media-amazon.com/images/I/31FCBht4h-...</td>\n",
       "      <td>height</td>\n",
       "      <td>3.3cm</td>\n",
       "    </tr>\n",
       "    <tr>\n",
       "      <th>...</th>\n",
       "      <td>...</td>\n",
       "      <td>...</td>\n",
       "      <td>...</td>\n",
       "    </tr>\n",
       "    <tr>\n",
       "      <th>495</th>\n",
       "      <td>https://m.media-amazon.com/images/I/31HYQmLB4q...</td>\n",
       "      <td>height</td>\n",
       "      <td>6.4cm</td>\n",
       "    </tr>\n",
       "    <tr>\n",
       "      <th>496</th>\n",
       "      <td>https://m.media-amazon.com/images/I/31IG-j-Jjw...</td>\n",
       "      <td>height</td>\n",
       "      <td>20mm</td>\n",
       "    </tr>\n",
       "    <tr>\n",
       "      <th>497</th>\n",
       "      <td>https://m.media-amazon.com/images/I/31J6aKJ4Nk...</td>\n",
       "      <td>height</td>\n",
       "      <td>14.2cm</td>\n",
       "    </tr>\n",
       "    <tr>\n",
       "      <th>498</th>\n",
       "      <td>https://m.media-amazon.com/images/I/31JVaJ+Ks6...</td>\n",
       "      <td>item_weight</td>\n",
       "      <td>500g</td>\n",
       "    </tr>\n",
       "    <tr>\n",
       "      <th>499</th>\n",
       "      <td>https://m.media-amazon.com/images/I/31Hz3Wm0bV...</td>\n",
       "      <td>item_weight</td>\n",
       "      <td>None</td>\n",
       "    </tr>\n",
       "  </tbody>\n",
       "</table>\n",
       "<p>500 rows × 3 columns</p>\n",
       "</div>"
      ],
      "text/plain": [
       "                                            image_link  entity_name predict\n",
       "0    https://m.media-amazon.com/images/I/31GO0eUnE7...  item_weight    10lb\n",
       "1    https://m.media-amazon.com/images/I/31HOaPtWAG...       height    80cm\n",
       "2    https://m.media-amazon.com/images/I/31Fh8XDXKm...      voltage    220v\n",
       "3    https://m.media-amazon.com/images/I/31GGjka5fc...       height    16cm\n",
       "4    https://m.media-amazon.com/images/I/31FCBht4h-...       height   3.3cm\n",
       "..                                                 ...          ...     ...\n",
       "495  https://m.media-amazon.com/images/I/31HYQmLB4q...       height   6.4cm\n",
       "496  https://m.media-amazon.com/images/I/31IG-j-Jjw...       height    20mm\n",
       "497  https://m.media-amazon.com/images/I/31J6aKJ4Nk...       height  14.2cm\n",
       "498  https://m.media-amazon.com/images/I/31JVaJ+Ks6...  item_weight    500g\n",
       "499  https://m.media-amazon.com/images/I/31Hz3Wm0bV...  item_weight    None\n",
       "\n",
       "[500 rows x 3 columns]"
      ]
     },
     "execution_count": 37,
     "metadata": {},
     "output_type": "execute_result"
    }
   ],
   "source": [
    "final_df"
   ]
  },
  {
   "cell_type": "code",
   "execution_count": 39,
   "id": "a1b15167-f104-410d-abbb-64c91f0ec01d",
   "metadata": {},
   "outputs": [],
   "source": [
    "df.to_csv(r\"C:\\Users\\koppu\\Documents\\TextRecognization_Image\\output.csv\",index=False)"
   ]
  },
  {
   "cell_type": "code",
   "execution_count": null,
   "id": "b4bf0e62-00d0-4c14-89ee-599834a38d5e",
   "metadata": {},
   "outputs": [],
   "source": []
  }
 ],
 "metadata": {
  "kernelspec": {
   "display_name": "Python 3 (ipykernel)",
   "language": "python",
   "name": "python3"
  },
  "language_info": {
   "codemirror_mode": {
    "name": "ipython",
    "version": 3
   },
   "file_extension": ".py",
   "mimetype": "text/x-python",
   "name": "python",
   "nbconvert_exporter": "python",
   "pygments_lexer": "ipython3",
   "version": "3.12.4"
  }
 },
 "nbformat": 4,
 "nbformat_minor": 5
}
